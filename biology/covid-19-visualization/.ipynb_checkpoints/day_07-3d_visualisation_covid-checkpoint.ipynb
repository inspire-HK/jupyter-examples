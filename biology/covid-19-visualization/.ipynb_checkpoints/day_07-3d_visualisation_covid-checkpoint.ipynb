{
 "cells": [
  {
   "cell_type": "markdown",
   "id": "ff02e597-a0fd-4e42-83c1-55a17239b903",
   "metadata": {},
   "source": [
    "#### Visualisation of COVID protein \n",
    "\n",
    "##### target students: TBD\n",
    "\n",
    "##### references:\n",
    "* https://github.com/lanadominkovic/12-days-of-biopython/blob/main/12_days_of_biopython/day_07/day_07-3d_visualisation_covid.ipynb\n",
    "* https://www.youtube.com/watch?v=ocA2IMe7dpAation_covid.ipynb"
   ]
  },
  {
   "cell_type": "markdown",
   "id": "f628e2eb",
   "metadata": {},
   "source": [
    "# Visualisation of COVID protein\n",
    "In previous lesson we performed BLAST query on our covid protein.\n",
    "\n",
    "We can also retrieve the same structural file SARS-CoV-2 from another database PDB (Protein Data Bank). PDB database stores protein records that contain coordinate information of each atom, which we will be using to visualize SARS-CoV-2 protein."
   ]
  },
  {
   "cell_type": "code",
   "execution_count": 1,
   "id": "717662d3",
   "metadata": {},
   "outputs": [],
   "source": [
    "# id of protein we are searching for (cp from day 6 lecture)\n",
    "seq_id = \"pdb|6YYT|A\""
   ]
  },
  {
   "cell_type": "code",
   "execution_count": 2,
   "id": "37062b82",
   "metadata": {},
   "outputs": [],
   "source": [
    "id = seq_id.split(\"|\")[1] # extract ID so we can download the PDB file from Protein Data Bank database. "
   ]
  },
  {
   "cell_type": "code",
   "execution_count": 3,
   "id": "79025c68",
   "metadata": {},
   "outputs": [
    {
     "data": {
      "text/plain": [
       "'6YYT'"
      ]
     },
     "execution_count": 3,
     "metadata": {},
     "output_type": "execute_result"
    }
   ],
   "source": [
    "id"
   ]
  },
  {
   "cell_type": "markdown",
   "id": "bc763a6d",
   "metadata": {},
   "source": [
    "The Protein Data Bank (pdb) file format is a textual file format describing the three-dimensional structures of molecules held in the Protein Data Bank.\n",
    "\n",
    "Download pdb file with wget command:"
   ]
  },
  {
   "cell_type": "code",
   "execution_count": 4,
   "id": "1be5518a",
   "metadata": {},
   "outputs": [
    {
     "name": "stdout",
     "output_type": "stream",
     "text": [
      "file exists, no need to download\n"
     ]
    }
   ],
   "source": [
    "import os.path\n",
    "\n",
    "if not os.path.isfile('./6YYT.pdb'):\n",
    "    print('Need to download the PDB file')\n",
    "    !wget https://files.rcsb.org/download/6YYT.pdb\n",
    "else:\n",
    "    print('file exists, no need to download')"
   ]
  },
  {
   "cell_type": "markdown",
   "id": "6f3ce6de",
   "metadata": {},
   "source": [
    "### Reading PDB file with Biopython\n",
    "Bio.PDB is a Biopython module that focuses on working with crystal structures of biological macromolecules. Among other things, Bio.PDB includes a PDBParser class that produces a Structure object, which can be used to access the atomic data in the file in a convenient manner. \n",
    "\n",
    "More about it in some later video :)"
   ]
  },
  {
   "cell_type": "code",
   "execution_count": 5,
   "id": "929d0664",
   "metadata": {},
   "outputs": [],
   "source": [
    "from Bio.PDB import PDBParser # PDBParser - parser for pdb files"
   ]
  },
  {
   "cell_type": "code",
   "execution_count": 6,
   "id": "d0e4d19c",
   "metadata": {},
   "outputs": [
    {
     "name": "stderr",
     "output_type": "stream",
     "text": [
      "/usr/local/lib/python3.10/dist-packages/Bio/PDB/StructureBuilder.py:89: PDBConstructionWarning: WARNING: Chain A is discontinuous at line 12059.\n",
      "  warnings.warn(\n"
     ]
    },
    {
     "data": {
      "text/plain": [
       "<Structure id=6YYT>"
      ]
     },
     "execution_count": 6,
     "metadata": {},
     "output_type": "execute_result"
    }
   ],
   "source": [
    "parser = PDBParser()\n",
    "structure = parser.get_structure('6YYT', '6YYT.pdb') # After parsing, we can fetch the protein structure using get_structure .\n",
    "structure"
   ]
  },
  {
   "cell_type": "markdown",
   "id": "5487f621",
   "metadata": {},
   "source": [
    "#### Identify the number of chains\n",
    "To identify how many chains this 6YYT covid viral protein has, we use chain.id function which gives us the list of the chains that are present."
   ]
  },
  {
   "cell_type": "code",
   "execution_count": 7,
   "id": "e1ad81c5",
   "metadata": {},
   "outputs": [
    {
     "name": "stdout",
     "output_type": "stream",
     "text": [
      "chain ID: A\n",
      "chain ID: B\n",
      "chain ID: C\n",
      "chain ID: D\n",
      "chain ID: P\n",
      "chain ID: Q\n",
      "chain ID: T\n",
      "chain ID: U\n"
     ]
    }
   ],
   "source": [
    "for chain in structure[0]:\n",
    "    print(f'chain ID: {chain.id}')"
   ]
  },
  {
   "cell_type": "markdown",
   "id": "45bd1b61",
   "metadata": {},
   "source": [
    "We see that this viral SARS-CoV-2 polymerase has 8 chains or 8 accessory proteins, represented with single alphabet."
   ]
  },
  {
   "cell_type": "markdown",
   "id": "b34b9a2c",
   "metadata": {},
   "source": [
    "It is finally time for us We will use **nglview** which is an IPython/Jupyter widget to interactively view molecular structures and trajectories, to create an interactive visualization of 6YYT SARS-CoV-2 protein."
   ]
  },
  {
   "cell_type": "code",
   "execution_count": 8,
   "id": "7c3962f0",
   "metadata": {},
   "outputs": [
    {
     "data": {
      "application/vnd.jupyter.widget-view+json": {
       "model_id": "83b7d7556aea4f46b321c85435dacb71",
       "version_major": 2,
       "version_minor": 0
      },
      "text/plain": []
     },
     "metadata": {},
     "output_type": "display_data"
    }
   ],
   "source": [
    "import nglview as nv"
   ]
  },
  {
   "cell_type": "code",
   "execution_count": 9,
   "id": "c5dc412a",
   "metadata": {},
   "outputs": [
    {
     "data": {
      "application/vnd.jupyter.widget-view+json": {
       "model_id": "3f032195001e4da5869b3f36ed709569",
       "version_major": 2,
       "version_minor": 0
      },
      "text/plain": [
       "NGLWidget()"
      ]
     },
     "metadata": {},
     "output_type": "display_data"
    },
    {
     "data": {
      "application/vnd.jupyter.widget-view+json": {
       "model_id": "097d97cf717f4b50b2415ae2ffe02f4a",
       "version_major": 2,
       "version_minor": 0
      },
      "text/plain": [
       "Tab(children=(Box(children=(Box(children=(Box(children=(Label(value='step'), IntSlider(value=1, min=-100)), la…"
      ]
     },
     "metadata": {},
     "output_type": "display_data"
    }
   ],
   "source": [
    "nv.show_biopython(structure, gui=True)"
   ]
  },
  {
   "cell_type": "markdown",
   "id": "9dd3c1c0",
   "metadata": {},
   "source": [
    "This is what the 6YYT SARS-CoV-2 protein looks like.\n",
    "- Two helical stands with different shades of blue color are the RNA template strand and its product strand\n",
    "- The bulk of red ribbons is the polymerase which is an enzyme (functional protein) that makes copies of the RNA chain. This polymerase is an attractive target for the antivirals COVID-19 vaccine.\n",
    "- If we flip the molecule, we can see the yellow and orange ribbons, which are the viral proteins that help the polymerase stay on track and copy long portions of the RNA chain."
   ]
  },
  {
   "cell_type": "code",
   "execution_count": null,
   "id": "00e21c12-d07d-492b-820a-37b15ed94de9",
   "metadata": {},
   "outputs": [],
   "source": []
  }
 ],
 "metadata": {
  "kernelspec": {
   "display_name": "Python 3 (ipykernel)",
   "language": "python",
   "name": "python3"
  },
  "language_info": {
   "codemirror_mode": {
    "name": "ipython",
    "version": 3
   },
   "file_extension": ".py",
   "mimetype": "text/x-python",
   "name": "python",
   "nbconvert_exporter": "python",
   "pygments_lexer": "ipython3",
   "version": "3.10.12"
  }
 },
 "nbformat": 4,
 "nbformat_minor": 5
}
