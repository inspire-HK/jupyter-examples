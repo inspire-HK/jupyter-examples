{
 "cells": [
  {
   "cell_type": "markdown",
   "id": "fb4e6e33-7d5d-485d-8d09-0af86816dbc8",
   "metadata": {},
   "source": [
    "https://k3d-jupyter.org/gallery/showcase/terrain.html"
   ]
  },
  {
   "cell_type": "code",
   "execution_count": 1,
   "id": "23aa5386-02f4-4d07-9d7b-3f1525c995ef",
   "metadata": {},
   "outputs": [
    {
     "name": "stderr",
     "output_type": "stream",
     "text": [
      "/usr/local/lib/python3.10/dist-packages/traittypes/traittypes.py:97: UserWarning: Given trait value dtype \"float32\" does not match required type \"float32\". A coerced copy has been created.\n",
      "  warnings.warn(\n"
     ]
    },
    {
     "data": {
      "application/vnd.jupyter.widget-view+json": {
       "model_id": "8ea94bc6110348718171a230332a91fe",
       "version_major": 2,
       "version_minor": 0
      },
      "text/plain": [
       "Output()"
      ]
     },
     "metadata": {},
     "output_type": "display_data"
    }
   ],
   "source": [
    "import numpy as np\n",
    "import k3d\n",
    "from pyvista import examples\n",
    "\n",
    "dem = examples.download_crater_topo()\n",
    "data = dem.get_array(0).reshape(dem.dimensions[::-1])[0, :, :].astype(np.float32)\n",
    "\n",
    "plot = k3d.plot()\n",
    "\n",
    "obj = k3d.surface(data,\n",
    "            attribute=data,\n",
    "            flat_shading=False,\n",
    "            color_map = k3d.colormaps.matplotlib_color_maps.viridis,\n",
    "            xmin=dem.bounds[0],\n",
    "            xmax=dem.bounds[1],\n",
    "            ymin=dem.bounds[2],\n",
    "            ymax=dem.bounds[3])\n",
    "\n",
    "plot += obj\n",
    "plot.display()"
   ]
  },
  {
   "cell_type": "code",
   "execution_count": null,
   "id": "e890b230-9e49-4d16-9d9e-6660a911671d",
   "metadata": {},
   "outputs": [],
   "source": []
  }
 ],
 "metadata": {
  "kernelspec": {
   "display_name": "Python 3 (ipykernel)",
   "language": "python",
   "name": "python3"
  },
  "language_info": {
   "codemirror_mode": {
    "name": "ipython",
    "version": 3
   },
   "file_extension": ".py",
   "mimetype": "text/x-python",
   "name": "python",
   "nbconvert_exporter": "python",
   "pygments_lexer": "ipython3",
   "version": "3.10.12"
  }
 },
 "nbformat": 4,
 "nbformat_minor": 5
}
