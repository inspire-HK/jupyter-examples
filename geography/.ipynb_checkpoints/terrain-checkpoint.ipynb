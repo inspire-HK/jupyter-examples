{
 "cells": [
  {
   "cell_type": "markdown",
   "id": "fb4e6e33-7d5d-485d-8d09-0af86816dbc8",
   "metadata": {},
   "source": [
    "https://k3d-jupyter.org/gallery/showcase/terrain.html"
   ]
  },
  {
   "cell_type": "code",
   "execution_count": 1,
   "id": "23aa5386-02f4-4d07-9d7b-3f1525c995ef",
   "metadata": {},
   "outputs": [
    {
     "ename": "ModuleNotFoundError",
     "evalue": "No module named 'pyvista'",
     "output_type": "error",
     "traceback": [
      "\u001b[0;31m---------------------------------------------------------------------------\u001b[0m",
      "\u001b[0;31mModuleNotFoundError\u001b[0m                       Traceback (most recent call last)",
      "Cell \u001b[0;32mIn[1], line 3\u001b[0m\n\u001b[1;32m      1\u001b[0m \u001b[38;5;28;01mimport\u001b[39;00m \u001b[38;5;21;01mnumpy\u001b[39;00m \u001b[38;5;28;01mas\u001b[39;00m \u001b[38;5;21;01mnp\u001b[39;00m\n\u001b[1;32m      2\u001b[0m \u001b[38;5;28;01mimport\u001b[39;00m \u001b[38;5;21;01mk3d\u001b[39;00m\n\u001b[0;32m----> 3\u001b[0m \u001b[38;5;28;01mfrom\u001b[39;00m \u001b[38;5;21;01mpyvista\u001b[39;00m \u001b[38;5;28;01mimport\u001b[39;00m examples\n\u001b[1;32m      5\u001b[0m dem \u001b[38;5;241m=\u001b[39m examples\u001b[38;5;241m.\u001b[39mdownload_crater_topo()\n\u001b[1;32m      6\u001b[0m data \u001b[38;5;241m=\u001b[39m dem\u001b[38;5;241m.\u001b[39mget_array(\u001b[38;5;241m0\u001b[39m)\u001b[38;5;241m.\u001b[39mreshape(dem\u001b[38;5;241m.\u001b[39mdimensions[::\u001b[38;5;241m-\u001b[39m\u001b[38;5;241m1\u001b[39m])[\u001b[38;5;241m0\u001b[39m, :, :]\u001b[38;5;241m.\u001b[39mastype(np\u001b[38;5;241m.\u001b[39mfloat32)\n",
      "\u001b[0;31mModuleNotFoundError\u001b[0m: No module named 'pyvista'"
     ]
    }
   ],
   "source": [
    "import numpy as np\n",
    "import k3d\n",
    "from pyvista import examples\n",
    "\n",
    "dem = examples.download_crater_topo()\n",
    "data = dem.get_array(0).reshape(dem.dimensions[::-1])[0, :, :].astype(np.float32)\n",
    "\n",
    "plot = k3d.plot()\n",
    "\n",
    "obj = k3d.surface(data,\n",
    "            attribute=data,\n",
    "            flat_shading=False,\n",
    "            color_map = k3d.colormaps.matplotlib_color_maps.viridis,\n",
    "            xmin=dem.bounds[0],\n",
    "            xmax=dem.bounds[1],\n",
    "            ymin=dem.bounds[2],\n",
    "            ymax=dem.bounds[3])\n",
    "\n",
    "plot += obj\n",
    "plot.display()"
   ]
  },
  {
   "cell_type": "code",
   "execution_count": null,
   "id": "e890b230-9e49-4d16-9d9e-6660a911671d",
   "metadata": {},
   "outputs": [],
   "source": []
  }
 ],
 "metadata": {
  "kernelspec": {
   "display_name": "Python 3 (ipykernel)",
   "language": "python",
   "name": "python3"
  },
  "language_info": {
   "codemirror_mode": {
    "name": "ipython",
    "version": 3
   },
   "file_extension": ".py",
   "mimetype": "text/x-python",
   "name": "python",
   "nbconvert_exporter": "python",
   "pygments_lexer": "ipython3",
   "version": "3.10.7"
  }
 },
 "nbformat": 4,
 "nbformat_minor": 5
}
