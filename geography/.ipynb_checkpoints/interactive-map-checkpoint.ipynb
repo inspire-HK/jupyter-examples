{
 "cells": [
  {
   "cell_type": "code",
   "execution_count": 1,
   "id": "18728a6f-57f0-4789-8f17-dba9d829b797",
   "metadata": {},
   "outputs": [],
   "source": [
    "%config IPCompleter.greedy=True\n"
   ]
  },
  {
   "cell_type": "code",
   "execution_count": 2,
   "id": "c7ee21e4-e981-4007-b623-5d814dbfefa3",
   "metadata": {},
   "outputs": [
    {
     "data": {
      "application/vnd.jupyter.widget-view+json": {
       "model_id": "60499c2b26cc4a36a422a6f300a953e2",
       "version_major": 2,
       "version_minor": 0
      },
      "text/plain": [
       "Map(center=[22.3511803, 114.0146821, 11.54], controls=(ZoomControl(options=['position', 'zoom_in_text', 'zoom_…"
      ]
     },
     "execution_count": 2,
     "metadata": {},
     "output_type": "execute_result"
    }
   ],
   "source": [
    "from ipyleaflet import Map\n",
    "\n",
    "Map(center=[22.3511803,114.0146821,11.54], zoom=10)"
   ]
  },
  {
   "cell_type": "code",
   "execution_count": null,
   "id": "2879d40e-2337-404d-9ff0-0387fa3ef37e",
   "metadata": {},
   "outputs": [],
   "source": []
  }
 ],
 "metadata": {
  "kernelspec": {
   "display_name": "Python 3 (ipykernel)",
   "language": "python",
   "name": "python3"
  },
  "language_info": {
   "codemirror_mode": {
    "name": "ipython",
    "version": 3
   },
   "file_extension": ".py",
   "mimetype": "text/x-python",
   "name": "python",
   "nbconvert_exporter": "python",
   "pygments_lexer": "ipython3",
   "version": "3.10.12"
  }
 },
 "nbformat": 4,
 "nbformat_minor": 5
}
