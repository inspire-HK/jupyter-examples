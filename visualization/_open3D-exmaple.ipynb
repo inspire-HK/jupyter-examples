{
 "cells": [
  {
   "cell_type": "markdown",
   "id": "a42ecd06-5f5f-4f70-aff9-fe113df63b59",
   "metadata": {},
   "source": [
    "http://www.open3d.org/docs/latest/tutorial/Basic/jupyter.html\n",
    "\n",
    "note: it does not work, perhaps, ubuntu server cannot use 3D hardware"
   ]
  },
  {
   "cell_type": "code",
   "execution_count": 1,
   "id": "f098f563-98fe-42d6-bfa6-010a5e7148ce",
   "metadata": {
    "tags": []
   },
   "outputs": [
    {
     "name": "stdout",
     "output_type": "stream",
     "text": [
      "Jupyter environment detected. Enabling Open3D WebVisualizer.\n",
      "[Open3D INFO] WebRTC GUI backend enabled.\n",
      "[Open3D INFO] WebRTCWindowSystem: HTTP handshake server disabled.\n"
     ]
    },
    {
     "ename": "ImportError",
     "evalue": "cannot import name 'JVisualizer' from 'open3d' (/usr/local/lib/python3.10/dist-packages/open3d/__init__.py)",
     "output_type": "error",
     "traceback": [
      "\u001b[0;31m---------------------------------------------------------------------------\u001b[0m",
      "\u001b[0;31mImportError\u001b[0m                               Traceback (most recent call last)",
      "Cell \u001b[0;32mIn[1], line 3\u001b[0m\n\u001b[1;32m      1\u001b[0m \u001b[38;5;28;01mimport\u001b[39;00m \u001b[38;5;21;01mnumpy\u001b[39;00m \u001b[38;5;28;01mas\u001b[39;00m \u001b[38;5;21;01mnp\u001b[39;00m\n\u001b[1;32m      2\u001b[0m \u001b[38;5;28;01mimport\u001b[39;00m \u001b[38;5;21;01mopen3d\u001b[39;00m \u001b[38;5;28;01mas\u001b[39;00m \u001b[38;5;21;01mo3d\u001b[39;00m\n\u001b[0;32m----> 3\u001b[0m \u001b[38;5;28;01mfrom\u001b[39;00m \u001b[38;5;21;01mopen3d\u001b[39;00m \u001b[38;5;28;01mimport\u001b[39;00m JVisualizer\n\u001b[1;32m      5\u001b[0m points \u001b[38;5;241m=\u001b[39m (np\u001b[38;5;241m.\u001b[39mrandom\u001b[38;5;241m.\u001b[39mrand(\u001b[38;5;241m1000\u001b[39m, \u001b[38;5;241m3\u001b[39m) \u001b[38;5;241m-\u001b[39m \u001b[38;5;241m0.5\u001b[39m) \u001b[38;5;241m/\u001b[39m \u001b[38;5;241m4\u001b[39m\n\u001b[1;32m      6\u001b[0m colors \u001b[38;5;241m=\u001b[39m np\u001b[38;5;241m.\u001b[39mrandom\u001b[38;5;241m.\u001b[39mrand(\u001b[38;5;241m1000\u001b[39m, \u001b[38;5;241m3\u001b[39m)\n",
      "\u001b[0;31mImportError\u001b[0m: cannot import name 'JVisualizer' from 'open3d' (/usr/local/lib/python3.10/dist-packages/open3d/__init__.py)"
     ]
    }
   ],
   "source": [
    "import numpy as np\n",
    "import open3d as o3d\n",
    "from open3d import JVisualizer\n",
    "\n",
    "points = (np.random.rand(1000, 3) - 0.5) / 4\n",
    "colors = np.random.rand(1000, 3)\n",
    "\n",
    "pcd = o3d.geometry.PointCloud()\n",
    "pcd.points = o3d.utility.Vector3dVector(points)\n",
    "pcd.colors = o3d.utility.Vector3dVector(colors)\n",
    "\n",
    "visualizer = JVisualizer()\n",
    "visualizer.add_geometry(pcd)\n",
    "visualizer.show()"
   ]
  },
  {
   "cell_type": "code",
   "execution_count": null,
   "id": "97c13f9a-1189-4bce-8004-9361304739f1",
   "metadata": {
    "tags": []
   },
   "outputs": [],
   "source": [
    "import open3d as o3d\n",
    "from open3d.web_visualizer import draw\n",
    "\n",
    "cube_red = o3d.geometry.TriangleMesh.create_box(1, 2, 4)\n",
    "cube_red.compute_vertex_normals()\n",
    "cube_red.paint_uniform_color((1.0, 0.0, 0.0))\n",
    "draw(cube_red)\n",
    "\n",
    "cube_blue = o3d.geometry.TriangleMesh.create_box(1, 2, 4)\n",
    "cube_blue.compute_vertex_normals()\n",
    "cube_blue.paint_uniform_color((0.0, 0.0, 1.0))\n",
    "draw(cube_blue)\n"
   ]
  },
  {
   "cell_type": "code",
   "execution_count": null,
   "id": "bdad6be9-67fa-4d0f-848d-ccdf9fddd515",
   "metadata": {},
   "outputs": [],
   "source": []
  }
 ],
 "metadata": {
  "kernelspec": {
   "display_name": "Python 3 (ipykernel)",
   "language": "python",
   "name": "python3"
  },
  "language_info": {
   "codemirror_mode": {
    "name": "ipython",
    "version": 3
   },
   "file_extension": ".py",
   "mimetype": "text/x-python",
   "name": "python",
   "nbconvert_exporter": "python",
   "pygments_lexer": "ipython3",
   "version": "3.10.12"
  }
 },
 "nbformat": 4,
 "nbformat_minor": 5
}
