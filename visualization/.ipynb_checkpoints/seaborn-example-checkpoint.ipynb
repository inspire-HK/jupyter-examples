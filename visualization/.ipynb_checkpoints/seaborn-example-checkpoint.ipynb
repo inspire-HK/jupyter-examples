{
 "cells": [
  {
   "cell_type": "markdown",
   "id": "6d7492d3-b106-4a75-bd35-a8cbb98f1f0a",
   "metadata": {},
   "source": [
    "https://www.youtube.com/watch?v=ooqXQ37XHMM&t=11s"
   ]
  },
  {
   "cell_type": "code",
   "execution_count": null,
   "id": "78619b9a-1762-4f73-8b61-0ff5e702a58e",
   "metadata": {},
   "outputs": [],
   "source": [
    "import seaborn as sns"
   ]
  },
  {
   "cell_type": "code",
   "execution_count": null,
   "id": "1c0977a9-fb79-4e06-8074-5c0e8fe1f705",
   "metadata": {},
   "outputs": [],
   "source": [
    "sns.get_dataset_names()"
   ]
  },
  {
   "cell_type": "code",
   "execution_count": null,
   "id": "3247d92a-525e-4621-bcf5-33295ce2d672",
   "metadata": {},
   "outputs": [],
   "source": [
    "tips = sns.load_dataset(\"tips\")\n",
    "iris = sns.load_dataset(\"iris\")\n",
    "titanic = sns.load_dataset(\"titanic\")\n",
    "planets = sns.load_dataset(\"planets\")"
   ]
  },
  {
   "cell_type": "code",
   "execution_count": null,
   "id": "d8695304-0e36-4c2d-bb8a-2300a163eb52",
   "metadata": {},
   "outputs": [],
   "source": [
    "tips"
   ]
  },
  {
   "cell_type": "code",
   "execution_count": null,
   "id": "fc0cc568-dd0b-4f13-b4ef-124253c5f0c1",
   "metadata": {},
   "outputs": [],
   "source": [
    "sns.scatterplot(x=\"tip\", y=\"total_bill\", data=tips)"
   ]
  },
  {
   "cell_type": "code",
   "execution_count": null,
   "id": "a20041e7-bc11-4d11-9ea2-cfe4597944ef",
   "metadata": {},
   "outputs": [],
   "source": [
    "sns.scatterplot(x=\"tip\", y=\"total_bill\", data=tips, hue=\"day\")"
   ]
  },
  {
   "cell_type": "code",
   "execution_count": null,
   "id": "5e6d27ec-d97d-403e-8911-50b9327f1c76",
   "metadata": {},
   "outputs": [],
   "source": [
    "sns.scatterplot(x=\"tip\", y=\"total_bill\", data=tips, hue=\"day\", size=\"size\")"
   ]
  },
  {
   "cell_type": "code",
   "execution_count": null,
   "id": "bb89d36a-e0f5-45f1-b8be-82946c4db495",
   "metadata": {},
   "outputs": [],
   "source": [
    "sns.scatterplot(x=\"tip\", y=\"total_bill\", data=tips, hue=\"day\", size=\"size\", palette=\"YlGnBu\")"
   ]
  },
  {
   "cell_type": "code",
   "execution_count": null,
   "id": "2a186571-81b0-4f14-9cf4-70b0fe2973a6",
   "metadata": {},
   "outputs": [],
   "source": [
    "sns.histplot(tips['tip'], kde=True, bins=15)"
   ]
  },
  {
   "cell_type": "code",
   "execution_count": null,
   "id": "45dc975b-f8c3-418f-ad6e-bd4690f8ffa8",
   "metadata": {},
   "outputs": [],
   "source": [
    "sns.displot(tips['tip'], kde=True, bins=15)"
   ]
  },
  {
   "cell_type": "code",
   "execution_count": null,
   "id": "7bccb8e4-08b5-42a1-a106-0994a7f3d372",
   "metadata": {},
   "outputs": [],
   "source": [
    "sns.barplot(x=\"sex\", y=\"tip\", data=tips, palette=\"YlGnBu\")"
   ]
  },
  {
   "cell_type": "code",
   "execution_count": null,
   "id": "33127a57-d8e4-42c0-b165-f582e8fbc6de",
   "metadata": {},
   "outputs": [],
   "source": [
    "sns.boxplot(x=\"day\", y=\"tip\", data=tips, hue=\"sex\", palette=\"YlGnBu\")"
   ]
  },
  {
   "cell_type": "code",
   "execution_count": null,
   "id": "720ea3e8-6419-4eab-bda8-acf6a5a76559",
   "metadata": {},
   "outputs": [],
   "source": [
    "sns.boxplot(x=\"day\", y=\"total_bill\", data=tips, hue=\"sex\", palette=\"YlGnBu\")"
   ]
  },
  {
   "cell_type": "code",
   "execution_count": null,
   "id": "cbeca96b-46f7-4b9f-a5c8-5750daa1c33c",
   "metadata": {},
   "outputs": [],
   "source": [
    "sns.stripplot(x=\"day\", y=\"tip\", data=tips, hue=\"sex\", palette=\"YlGnBu\")"
   ]
  },
  {
   "cell_type": "code",
   "execution_count": null,
   "id": "571d52ef-8673-4be5-ad77-40285311b510",
   "metadata": {},
   "outputs": [],
   "source": [
    "sns.stripplot(x=\"day\", y=\"tip\", data=tips, hue=\"sex\", palette=\"YlGnBu\", dodge=True)"
   ]
  },
  {
   "cell_type": "code",
   "execution_count": null,
   "id": "0cca0cc8-02e9-4c4d-b195-ae693be444cb",
   "metadata": {},
   "outputs": [],
   "source": [
    "sns.jointplot(x=\"tip\", y=\"total_bill\", data=tips)"
   ]
  },
  {
   "cell_type": "code",
   "execution_count": null,
   "id": "d31c3877-8174-42c8-ae18-ef2b4482d09d",
   "metadata": {},
   "outputs": [],
   "source": [
    "sns.jointplot(x=\"tip\", y=\"total_bill\", data=tips, kind=\"reg\") # kind = regression"
   ]
  },
  {
   "cell_type": "code",
   "execution_count": null,
   "id": "41bd666f-a752-41b0-9132-3bb3a267a5ef",
   "metadata": {},
   "outputs": [],
   "source": [
    "sns.jointplot(x=\"tip\", y=\"total_bill\", data=tips, kind=\"kde\", fill=True, cmap=\"YlGnBu\") # kind = kde"
   ]
  },
  {
   "cell_type": "code",
   "execution_count": null,
   "id": "e248b5c1-aa03-45f3-8e0d-63dcd13da606",
   "metadata": {},
   "outputs": [],
   "source": [
    "sns.jointplot(x=\"tip\", y=\"total_bill\", data=tips, kind=\"hex\", cmap=\"YlGnBu\")"
   ]
  },
  {
   "cell_type": "code",
   "execution_count": null,
   "id": "4ea1fdff-d669-45d3-9a63-fd8d7afc9eeb",
   "metadata": {},
   "outputs": [],
   "source": [
    "titanic.corr(numeric_only=True)"
   ]
  },
  {
   "cell_type": "code",
   "execution_count": null,
   "id": "609b8839-ab88-48ad-9e19-2a048e6d1fea",
   "metadata": {},
   "outputs": [],
   "source": [
    "sns.pairplot(titanic.select_dtypes(['number']), hue=\"pclass\")"
   ]
  },
  {
   "cell_type": "code",
   "execution_count": null,
   "id": "0f7f22d5-0035-4791-8320-664d1e76c81a",
   "metadata": {},
   "outputs": [],
   "source": [
    "sns.heatmap(titanic.corr(numeric_only=True), annot=True, cmap=\"YlGnBu\")"
   ]
  },
  {
   "cell_type": "code",
   "execution_count": null,
   "id": "9242049b-a5a7-4954-889b-7517befefd71",
   "metadata": {},
   "outputs": [],
   "source": [
    "sns.heatmap(titanic.corr(numeric_only=True), annot=True, cmap=\"coolwarm\")"
   ]
  },
  {
   "cell_type": "code",
   "execution_count": null,
   "id": "e425ebad-a8b5-4f5a-a3bd-5bab7d0eddef",
   "metadata": {},
   "outputs": [],
   "source": [
    "sns.clustermap(iris.drop(\"species\", axis=1))"
   ]
  }
 ],
 "metadata": {
  "kernelspec": {
   "display_name": "Python 3 (ipykernel)",
   "language": "python",
   "name": "python3"
  },
  "language_info": {
   "codemirror_mode": {
    "name": "ipython",
    "version": 3
   },
   "file_extension": ".py",
   "mimetype": "text/x-python",
   "name": "python",
   "nbconvert_exporter": "python",
   "pygments_lexer": "ipython3",
   "version": "3.10.12"
  }
 },
 "nbformat": 4,
 "nbformat_minor": 5
}
