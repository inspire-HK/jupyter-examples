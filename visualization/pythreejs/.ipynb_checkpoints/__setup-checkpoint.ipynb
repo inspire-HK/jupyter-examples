{
 "cells": [
  {
   "cell_type": "markdown",
   "id": "9b64b980-81dd-4b54-af4b-29b1a0f71b43",
   "metadata": {},
   "source": [
    "## Run this notebook to setup your environment"
   ]
  }
 ],
 "metadata": {
  "kernelspec": {
   "display_name": "Python 3 (ipykernel)",
   "language": "python",
   "name": "python3"
  },
  "language_info": {
   "codemirror_mode": {
    "name": "ipython",
    "version": 3
   },
   "file_extension": ".py",
   "mimetype": "text/x-python",
   "name": "python",
   "nbconvert_exporter": "python",
   "pygments_lexer": "ipython3",
   "version": "3.11.6"
  }
 },
 "nbformat": 4,
 "nbformat_minor": 5
}
