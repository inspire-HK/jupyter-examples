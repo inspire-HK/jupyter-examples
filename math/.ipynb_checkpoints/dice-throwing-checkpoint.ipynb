{
 "cells": [
  {
   "cell_type": "markdown",
   "metadata": {},
   "source": [
    "## Probability of Dice Throwing"
   ]
  },
  {
   "cell_type": "code",
   "execution_count": 7,
   "metadata": {},
   "outputs": [],
   "source": [
    "import random"
   ]
  },
  {
   "cell_type": "code",
   "execution_count": 8,
   "metadata": {},
   "outputs": [],
   "source": [
    "faces = ['1', '2', '3', '4', '5', '6']"
   ]
  },
  {
   "cell_type": "code",
   "execution_count": 9,
   "metadata": {},
   "outputs": [
    {
     "name": "stdout",
     "output_type": "stream",
     "text": [
      "Probability of matching '1' (throwing dice 1000 times): 0.154 (inverse: 6.4935064935064934)\n"
     ]
    }
   ],
   "source": [
    "# single match\n",
    "\n",
    "goal = '1'\n",
    "tries = 1000\n",
    "match = 0\n",
    "for x in range(tries):\n",
    "    if random.choice(faces) == goal:\n",
    "        match += 1\n",
    "\n",
    "print(f\"Probability of matching '{goal}' (throwing dice {tries} times): {match/tries} (inverse: {tries/match})\")"
   ]
  },
  {
   "cell_type": "code",
   "execution_count": 10,
   "metadata": {},
   "outputs": [
    {
     "name": "stdout",
     "output_type": "stream",
     "text": [
      "Probability of matching '['1', '2']' (throwing dice 100000 times): 0.02758 (inverse: 36.25815808556926)\n"
     ]
    }
   ],
   "source": [
    "# two consecutively matches\n",
    "\n",
    "goal = ['1', '2']\n",
    "tries = 100000\n",
    "match = 0\n",
    "prev_outcome = random.choice(faces)\n",
    "\n",
    "for x in range(tries-1):\n",
    "    curr_outcome = random.choice(faces)\n",
    "    if prev_outcome == goal[0] and curr_outcome == goal[1]:\n",
    "        match += 1\n",
    "    prev_outcome = curr_outcome\n",
    "\n",
    "print(f\"Probability of matching '{goal}' (throwing dice {tries} times): {match/tries} (inverse: {tries/match})\")"
   ]
  }
 ],
 "metadata": {
  "kernelspec": {
   "display_name": "Python 3 (ipykernel)",
   "language": "python",
   "name": "python3"
  },
  "language_info": {
   "codemirror_mode": {
    "name": "ipython",
    "version": 3
   },
   "file_extension": ".py",
   "mimetype": "text/x-python",
   "name": "python",
   "nbconvert_exporter": "python",
   "pygments_lexer": "ipython3",
   "version": "3.10.12"
  },
  "vscode": {
   "interpreter": {
    "hash": "f5204562b952d1c4aff549ff4e436a4d4da975b74dcc1553092782cc0bb4e7dd"
   }
  }
 },
 "nbformat": 4,
 "nbformat_minor": 4
}
