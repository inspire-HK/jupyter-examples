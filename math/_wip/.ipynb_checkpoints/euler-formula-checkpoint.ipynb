{
 "cells": [
  {
   "cell_type": "markdown",
   "id": "ed90bead-c9bc-45ee-81e6-0fc04738ce41",
   "metadata": {},
   "source": [
    "### euler formula\n",
    "\n",
    "### project 3d-spiral to sine & cosine"
   ]
  }
 ],
 "metadata": {
  "kernelspec": {
   "display_name": "Python 3 (ipykernel)",
   "language": "python",
   "name": "python3"
  },
  "language_info": {
   "codemirror_mode": {
    "name": "ipython",
    "version": 3
   },
   "file_extension": ".py",
   "mimetype": "text/x-python",
   "name": "python",
   "nbconvert_exporter": "python",
   "pygments_lexer": "ipython3",
   "version": "3.10.12"
  }
 },
 "nbformat": 4,
 "nbformat_minor": 5
}
