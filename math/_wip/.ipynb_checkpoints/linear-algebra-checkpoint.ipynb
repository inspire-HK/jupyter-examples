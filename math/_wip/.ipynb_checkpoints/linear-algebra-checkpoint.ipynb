{
 "cells": [
  {
   "cell_type": "markdown",
   "id": "d3df8420-3cdf-4989-9ec7-7a605db2b94a",
   "metadata": {},
   "source": [
    "https://bvanderlei.github.io/jupyter-guide-to-linear-algebra/intro.html"
   ]
  }
 ],
 "metadata": {
  "kernelspec": {
   "display_name": "Python 3 (ipykernel)",
   "language": "python",
   "name": "python3"
  },
  "language_info": {
   "name": ""
  }
 },
 "nbformat": 4,
 "nbformat_minor": 5
}
