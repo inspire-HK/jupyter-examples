{
 "cells": [
  {
   "cell_type": "markdown",
   "id": "b77d9405-bb36-45b2-b0fa-b68d9703cb5f",
   "metadata": {},
   "source": [
    "## Definition of an Ellipse\n",
    "\n",
    "Reference: Barron's Precalculus The Easy Way\n",
    "https://webcat.hkpl.gov.hk/lib/item?id=chamo:3599447\n",
    "\n",
    "\n",
    "quote from Lession 14-2\n",
    "### Geometric Defintion of an Ellipse\n",
    "An ellipse is the set of all points in the plane the sum of whose distances from two fixed points, called **foci**, is constant. In Figure 14.3 (below), the foci are labeled F and F'. The sum PF + PF' is the same for any point P on the ellipse. The line that contains F and F' is the focal axis.\n",
    "\n",
    "Annotaion:\n",
    "* F & F' are foci, O is the midpoint of FF' (aka center of an ellipse), each of the foci is <em>c</em> units from the center.\n",
    "* V & V' are the <em>vertices</em> of the ellipse\n",
    "* Line segment VV' is the major axis.\n",
    "* Point B & B' are tje endpoints of the minor axis."
   ]
  },
  {
   "cell_type": "markdown",
   "id": "d8771d5d-9690-47ef-b7a0-c3469d2b8a27",
   "metadata": {},
   "source": [
    "##### Task: draw an ellipse, \n",
    "widget\n",
    "\n",
    "position: from 0 - 2*pi\n",
    "show the PF & PF's line on plot, and calculate PF & PF' & PF + PF'"
   ]
  },
  {
   "cell_type": "code",
   "execution_count": 7,
   "id": "2ecb2b22-b868-44a0-b3cc-45ba22e6d0ca",
   "metadata": {},
   "outputs": [
    {
     "data": {
      "image/png": "[encoded data removed]",
      "text/plain": [
       "<Figure size 640x480 with 1 Axes>"
      ]
     },
     "metadata": {},
     "output_type": "display_data"
    },
    {
     "data": {
      "application/vnd.jupyter.widget-view+json": {
       "model_id": "59e756c5a8a24aac9f80427bcfb297ec",
       "version_major": 2,
       "version_minor": 0
      },
      "text/plain": [
       "interactive(children=(IntSlider(value=0, description='xcenter', max=50, min=-50), IntSlider(value=0, descripti…"
      ]
     },
     "metadata": {},
     "output_type": "display_data"
    }
   ],
   "source": [
    "from matplotlib import patches\n",
    "import matplotlib.pyplot as plt\n",
    "from ipywidgets import interact\n",
    "\n",
    "fig = plt.figure()\n",
    "ax = fig.add_subplot(111)\n",
    "\n",
    "ellipse = patches.Ellipse((0,0), width=50, height=25, angle=0)\n",
    "ellipse.set_center((40, 20))\n",
    "ax.add_patch(ellipse)\n",
    "\n",
    "ax.set_xlim(-60, 60)\n",
    "ax.set_ylim(-35, 35)\n",
    "\n",
    "@interact\n",
    "def update(xcenter=(-50,50), ycenter=(-50,50)):\n",
    "    ellipse.set_center((xcenter, ycenter))\n",
    "    #fig.canvas.draw()\n",
    "    plt.plot()"
   ]
  },
  {
   "cell_type": "markdown",
   "id": "9a105f7a-39e9-4e99-aef9-83a9710bcbfe",
   "metadata": {},
   "source": [
    "### The Pythagorean Relation for Ellipses\n",
    "The distance <em>a,b,</em> and <em>c</em> are related by the equation a<sup>2</sup> = b<sup>2</sup> + c<sup>2</sup>. The understand wht this relationship is true, consider Figure below and reaon as follows:\n",
    "\n",
    "* The disance from F to V is a - c, and the distance from F' to V is a + c. The sum of the distances from the two foci to V is (a - c) + (a + c) = 2a.\n",
    "* Drawing BF' and BF formes two right triangles. When two triangles agress in the measures of the two sides and their included angle, as do triangles BOF and BOF', the triangles are congruent so every other pair of dimensions of the two triangles must also match. Hence, the lengths of BF' and BF must be the same.\n",
    "* Beacuse the sum of the distances from the foci to B (0,b) must be equal to 2a. Hence, BF' + BF = 2a, so BF' = BF = a.\n",
    "* Applying the Pythagorean theorem to either right triangle gives a<sup>2 = b<sup>2</sup> + c<sup>2</sup>, where a is the length of the hypotenuse."
   ]
  },
  {
   "cell_type": "code",
   "execution_count": null,
   "id": "32753c16-71fd-4e01-b605-e0ab3f5cefca",
   "metadata": {},
   "outputs": [],
   "source": []
  }
 ],
 "metadata": {
  "kernelspec": {
   "display_name": "Python 3 (ipykernel)",
   "language": "python",
   "name": "python3"
  },
  "language_info": {
   "codemirror_mode": {
    "name": "ipython",
    "version": 3
   },
   "file_extension": ".py",
   "mimetype": "text/x-python",
   "name": "python",
   "nbconvert_exporter": "python",
   "pygments_lexer": "ipython3",
   "version": "3.10.12"
  }
 },
 "nbformat": 4,
 "nbformat_minor": 5
}
