{
 "cells": [
  {
   "cell_type": "markdown",
   "id": "d3df8420-3cdf-4989-9ec7-7a605db2b94a",
   "metadata": {},
   "source": [
    "https://bvanderlei.github.io/jupyter-guide-to-linear-algebra/intro.html"
   ]
  }
 ],
 "metadata": {
  "kernelspec": {
   "display_name": "Python 3 (ipykernel)",
   "language": "python",
   "name": "python3"
  },
  "language_info": {
   "codemirror_mode": {
    "name": "ipython",
    "version": 3
   },
   "file_extension": ".py",
   "mimetype": "text/x-python",
   "name": "python",
   "nbconvert_exporter": "python",
   "pygments_lexer": "ipython3",
   "version": "3.10.12"
  }
 },
 "nbformat": 4,
 "nbformat_minor": 5
}
