{
 "cells": [
  {
   "cell_type": "markdown",
   "metadata": {},
   "source": [
    "# Calculus\n",
    "copies from https://www.geeksforgeeks.org/how-to-do-calculus-with-python/"
   ]
  },
  {
   "cell_type": "markdown",
   "metadata": {},
   "source": [
    "Differentiation: \n",
    "We can differentiate any sympy expression by using diff(func, var) method. The parameter func denotes the sympy expression to be differentiated and var denotes the variable with respect to which we have to differentiate."
   ]
  },
  {
   "cell_type": "code",
   "execution_count": 2,
   "metadata": {},
   "outputs": [
    {
     "name": "stdout",
     "output_type": "stream",
     "text": [
      "derivative w.r.t x:  3*x**2*y\n",
      "derivative w.r.t y:  x**3 + 3*y**2\n"
     ]
    }
   ],
   "source": [
    "# Importing library\n",
    "import sympy as sym\n",
    "\n",
    "# Declaring variables\n",
    "x, y, z = sym.symbols('x y z')\n",
    "\n",
    "# expression of which we have to find derivative\n",
    "exp = x**3 * y + y**3 + z\n",
    "\n",
    "# Differentiating exp with respect to x\n",
    "derivative1_x = sym.diff(exp, x)\n",
    "print('derivative w.r.t x: ',\n",
    "      derivative1_x)\n",
    "\n",
    "# Differentiating exp with respect to y\n",
    "derivative1_y = sym.diff(exp, y)\n",
    "print('derivative w.r.t y: ',\n",
    "      derivative1_y)"
   ]
  },
  {
   "cell_type": "code",
   "execution_count": 3,
   "metadata": {},
   "outputs": [
    {
     "name": "stdout",
     "output_type": "stream",
     "text": [
      "second derivative w.r.t. x:  6*x*y\n",
      "second derivative w.r.t. y:  6*y\n"
     ]
    }
   ],
   "source": [
    "# Finding second derivative\n",
    "# of exp with respect to x\n",
    "derivative2_x = sym.diff(exp, x, 2)\n",
    "print('second derivative w.r.t. x: ',\n",
    "      derivative2_x)\n",
    "\n",
    "# Finding second derivative\n",
    "# of exp with respect to y\n",
    "derivative2_y = sym.diff(exp, y, 2)\n",
    "print('second derivative w.r.t. y: ',\n",
    "      derivative2_y)"
   ]
  },
  {
   "cell_type": "markdown",
   "metadata": {},
   "source": [
    "Integration: \n",
    "You can do indefinite and definite integration of transcendental elementary and special functions via integrate() function. "
   ]
  },
  {
   "cell_type": "code",
   "execution_count": 4,
   "metadata": {},
   "outputs": [
    {
     "name": "stdout",
     "output_type": "stream",
     "text": [
      "indefinite integral of cos(x):  sin(x)\n",
      "definite integral of cos(x) between -1 to 1:  2*sin(1)\n",
      "definite integral of exp(-x) between 0 to ∞:  1\n"
     ]
    }
   ],
   "source": [
    "# Indefinite integration of cos(x) w.r.t. dx\n",
    "integral1 = sym.integrate(sym.cos(x), x)\n",
    "print('indefinite integral of cos(x): ',\n",
    "      integral1)\n",
    "\n",
    "# definite integration of cos(x) w.r.t. dx between -1 to 1\n",
    "integral2 = sym.integrate(sym.cos(x), (x, -1, 1))\n",
    "print('definite integral of cos(x) between -1 to 1: ',\n",
    "      integral2)\n",
    "\n",
    "# definite integration of exp(-x) w.r.t. dx between 0 to ∞\n",
    "integral3 = sym.integrate(sym.exp(-x), (x, 0, sym.oo))\n",
    "print('definite integral of exp(-x) between 0 to ∞: ',\n",
    "      integral3)"
   ]
  },
  {
   "cell_type": "code",
   "execution_count": 5,
   "metadata": {},
   "outputs": [
    {
     "name": "stdout",
     "output_type": "stream",
     "text": [
      "oo\n",
      "0\n",
      "1\n"
     ]
    }
   ],
   "source": [
    "# Calculating limit of f(x) = x as x->∞\n",
    "limit1 = sym.limit(x, x, sym.oo)\n",
    "print(limit1)\n",
    "\n",
    "# Calculating limit of f(x) = 1/x as x->∞\n",
    "limit2 = sym.limit(1/x, x, sym.oo)\n",
    "print(limit2)\n",
    "\n",
    "# Calculating limit of f(x) = sin(x)/x as x->0\n",
    "limit3 = sym.limit(sym.sin(x)/x, x, 0)\n",
    "print(limit3)"
   ]
  },
  {
   "cell_type": "code",
   "execution_count": 6,
   "metadata": {},
   "outputs": [
    {
     "name": "stdout",
     "output_type": "stream",
     "text": [
      "1 - x**2/2 + x**4/24 + O(x**6)\n",
      "1 + x**2/2 + O(x**4)\n"
     ]
    }
   ],
   "source": [
    "# assign series\n",
    "series1 = sym.series(sym.cos(x), x)\n",
    "print(series1)\n",
    "\n",
    "# assign series\n",
    "series2 = sym.series(1/sym.cos(x), x, 0, 4)\n",
    "print(series2)"
   ]
  }
 ],
 "metadata": {
  "kernelspec": {
   "display_name": "Python 3 (ipykernel)",
   "language": "python",
   "name": "python3"
  },
  "language_info": {
   "codemirror_mode": {
    "name": "ipython",
    "version": 3
   },
   "file_extension": ".py",
   "mimetype": "text/x-python",
   "name": "python",
   "nbconvert_exporter": "python",
   "pygments_lexer": "ipython3",
   "version": "3.12.0"
  },
  "vscode": {
   "interpreter": {
    "hash": "f5204562b952d1c4aff549ff4e436a4d4da975b74dcc1553092782cc0bb4e7dd"
   }
  }
 },
 "nbformat": 4,
 "nbformat_minor": 4
}
